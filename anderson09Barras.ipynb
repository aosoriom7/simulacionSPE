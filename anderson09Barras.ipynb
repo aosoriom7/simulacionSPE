{
 "cells": [
  {
   "cell_type": "markdown",
   "metadata": {},
   "source": [
    "# Modelo 09 Barras Anderson"
   ]
  },
  {
   "cell_type": "markdown",
   "metadata": {},
   "source": [
    "## Creacion del modelo"
   ]
  },
  {
   "cell_type": "code",
   "execution_count": null,
   "metadata": {},
   "outputs": [],
   "source": [
    "import pandapower as pp\n",
    "\n",
    "net9b = pp.create_empty_network()\n",
    "\n",
    "#Crear los barrajes del Sistema \n",
    "bus1 = pp.create_bus(net9b, name= \"Bus01\", vn_kv= 16.5, type= \"b\")\n",
    "bus2 = pp.create_bus(net9b, name= \"Bus02\", vn_kv= 18, type= \"b\")\n",
    "bus3 = pp.create_bus(net9b, name= \"Bus03\", vn_kv= 13.8, type= \"b\")\n",
    "bus4 = pp.create_bus(net9b, name= \"Bus04\", vn_kv= 13.8, type= \"b\")\n",
    "bus5 = pp.create_bus(net9b, name= \"Bus05 Station A\", vn_kv= 230, type= \"b\")\n",
    "bus6 = pp.create_bus(net9b, name= \"Bus06 Station B\", vn_kv= 230, type= \"b\")\n",
    "bus7 = pp.create_bus(net9b, name= \"Bus07\", vn_kv= 230, type= \"b\")\n",
    "bus8 = pp.create_bus(net9b, name= \"Bus08 Station C\", vn_kv= 230, type= \"b\")\n",
    "bus9 = pp.create_bus(net9b, name= \"Bus09\", vn_kv= 230, type= \"b\")"
   ]
  }
 ],
 "metadata": {
  "kernelspec": {
   "display_name": "Python 3.7.3 64-bit ('base': conda)",
   "metadata": {
    "interpreter": {
     "hash": "063b336a909d1e022659ed9d1e027670738b9a1201b9f68d9a9846ad855537fb"
    }
   },
   "name": "python3"
  },
  "language_info": {
   "name": "python",
   "nbconvert_exporter": "python",
   "version": "3.7.3"
  },
  "orig_nbformat": 2
 },
 "nbformat": 4,
 "nbformat_minor": 2
}