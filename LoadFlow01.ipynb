{
 "cells": [
  {
   "cell_type": "markdown",
   "metadata": {},
   "source": [
    "## Simulacion de flujo de carga"
   ]
  },
  {
   "cell_type": "code",
   "execution_count": 1,
   "metadata": {},
   "outputs": [
    {
     "data": {
      "text/plain": "This pandapower network includes the following parameter tables:\n   - bus (7 elements)\n   - load (2 elements)\n   - sgen (1 element)\n   - gen (1 element)\n   - switch (8 elements)\n   - shunt (1 element)\n   - ext_grid (1 element)\n   - line (4 elements)\n   - trafo (1 element)"
     },
     "execution_count": 1,
     "metadata": {},
     "output_type": "execute_result"
    }
   ],
   "source": [
    "import pandapower as pp\n",
    "\n",
    "net6 = pp.create_empty_network()\n",
    "\n",
    "#Crear los barrajes del Sistema \n",
    "bus1 = pp.create_bus(net6, name= \"B1 HV busbar\", vn_kv= 110, type= \"b\")\n",
    "bus2 = pp.create_bus(net6, name= \"B2 HV busbar 2\", vn_kv= 110, type= \"b\")\n",
    "bus3 = pp.create_bus(net6, name= \"B3 HV Transformer Bus\", vn_kv= 110, type= \"n\")\n",
    "bus4 = pp.create_bus(net6, name= \"B4 MV Transformer Bus\", vn_kv= 20, type= \"n\")\n",
    "bus5 = pp.create_bus(net6, name= \"B5 MV Main Bus\", vn_kv= 20, type= \"b\")\n",
    "bus6 = pp.create_bus(net6, name= \"B6 MV Bus 1 - Gen1\", vn_kv= 20, type= \"b\")\n",
    "bus7 = pp.create_bus(net6, name= \"B7 MV Bus 2 - Static Gen2\", vn_kv= 20, type= \"b\")\n",
    "\n",
    "#Crea red Ext.\n",
    "pp.create_ext_grid(net6, name= \"Red_Ext\", bus= bus1, vm_pu= 1.02, va_degree= 50) \n",
    "\n",
    "#Crea Transformador de Potencia\n",
    "pp.create_transformer(net6,hv_bus= bus3, lv_bus= bus4, name= \"110/20 kV XMFR\", std_type= \"25 MVA 110/20 kV\")\n",
    "\n",
    "#Crea lineas del sistema\n",
    "line1 = pp.create_line(net6, from_bus= bus1, to_bus= bus2, length_km= 10, \n",
    "                       std_type= \"N2XS(FL)2Y 1x300 RM/35 64/110 kV\", name= \"Linea 1\")\n",
    "line2 = pp.create_line(net6, from_bus= bus5, to_bus= bus6, length_km= 2, \n",
    "                       std_type= \"NA2XS2Y 1x240 RM/25 12/20 kV\", name= \"Linea 2\")\n",
    "line3 = pp.create_line(net6, from_bus= bus6, to_bus= bus7, length_km= 3.5,\n",
    "                       std_type= \"48-AL1/8-ST1A 20.0\", name= \"Linea 3\")\n",
    "line4 = pp.create_line(net6, from_bus= bus7, to_bus= bus5, length_km= 2.5,\n",
    "                       std_type= \"NA2XS2Y 1x240 RM/25 12/20 kV\", name= \"Linea 4\")\n",
    "\n",
    "\n",
    "# Creacion Interruptores del sistema\n",
    "sw1 = pp.create_switch(net6, bus= bus2, element= bus3, et= \"b\", type= \"CB\", \n",
    "                       closed= True, name= \"SW1\")\n",
    "\n",
    "sw2 = pp.create_switch(net6, bus= bus4, element= bus5, et= \"b\", type= \"CB\", \n",
    "                       closed= True, name= \"SW2\")\n",
    "\n",
    "sw3 = pp.create_switch(net6, bus= bus5, element= line2, et= \"l\", type= \"LBS\", \n",
    "                       closed= True, name= \"SW3\")\n",
    "\n",
    "sw4 = pp.create_switch(net6, bus= bus6, element= line2, et= \"l\", type= \"LBS\", \n",
    "                       closed= True, name= \"SW4\")\n",
    "\n",
    "sw5 = pp.create_switch(net6, bus= bus6, element= line3, et= \"l\", type= \"LBS\", \n",
    "                       closed= True, name= \"SW5\")\n",
    "\n",
    "# sw6 en posicion abierto\n",
    "sw6 = pp.create_switch(net6, bus= bus7, element= line3, et= \"l\", type= \"LBS\", \n",
    "                       closed= False, name= \"SW5\")\n",
    "\n",
    "sw7 = pp.create_switch(net6, bus= bus7, element= line4, et= \"l\", type= \"LBS\", \n",
    "                       closed= True, name= \"SW7\")\n",
    "\n",
    "sw8 = pp.create_switch(net6, bus= bus5, element= line4, et= \"l\", type= \"LBS\", \n",
    "                       closed= True, name= \"SW8\")\n",
    "\n",
    "# Creacion carga constante\n",
    "load1 = pp.create_load(net6, bus= bus7, p_mw= 2.0, q_mvar=4.0, scaling= 0.6, name= \"Carga 1\")\n",
    "\n",
    "# Creacion carga variable ZIP\n",
    "zip_load = pp.create_load(net6, bus7, p_mw=2.0, q_mvar= 4.0, const_z_percent= 30, \n",
    "                         const_i_percent= 20, name= \"zip_load1\")\n",
    "\n",
    "#Creacion Generador Estatico\n",
    "stGen1 = pp.create_sgen(net6, bus7, p_mw= 2.0, q_mvar= -0.5, name= \"Gen_Estatico\")\n",
    "\n",
    "\n",
    "#Creacion generador \n",
    "gen1 = pp.create_gen(net6, bus= bus6, p_mw= 6.0, vm_pu= 1.03, max_q_mvar= 3.0, \n",
    "                     min_q_mvar= -3.0, name= \"Gen_1\")\n",
    "\n",
    "#Creacion banco de compensacion\n",
    "cap1 = pp.create_shunt(net6, bus= bus3, q_mvar= -0.96, p_mw= 0, name=\"Shunt_1\")\n",
    "\n",
    "net6"
   ]
  },
  {
   "cell_type": "code",
   "execution_count": 2,
   "metadata": {},
   "outputs": [
    {
     "data": {
      "text/html": "<div>\n<style scoped>\n    .dataframe tbody tr th:only-of-type {\n        vertical-align: middle;\n    }\n\n    .dataframe tbody tr th {\n        vertical-align: top;\n    }\n\n    .dataframe thead th {\n        text-align: right;\n    }\n</style>\n<table border=\"1\" class=\"dataframe\">\n  <thead>\n    <tr style=\"text-align: right;\">\n      <th></th>\n      <th>bus</th>\n      <th>name</th>\n      <th>q_mvar</th>\n      <th>p_mw</th>\n      <th>vn_kv</th>\n      <th>step</th>\n      <th>max_step</th>\n      <th>in_service</th>\n    </tr>\n  </thead>\n  <tbody>\n    <tr>\n      <th>0</th>\n      <td>2</td>\n      <td>Shunt_1</td>\n      <td>-0.96</td>\n      <td>0.0</td>\n      <td>110.0</td>\n      <td>1</td>\n      <td>1</td>\n      <td>True</td>\n    </tr>\n  </tbody>\n</table>\n</div>",
      "text/plain": "   bus     name  q_mvar  p_mw  vn_kv  step  max_step  in_service\n0    2  Shunt_1   -0.96   0.0  110.0     1         1        True"
     },
     "execution_count": 2,
     "metadata": {},
     "output_type": "execute_result"
    }
   ],
   "source": [
    "net6.shunt"
   ]
  },
  {
   "cell_type": "code",
   "execution_count": 3,
   "metadata": {},
   "outputs": [],
   "source": [
    "pp.runpp(net6)"
   ]
  },
  {
   "cell_type": "code",
   "execution_count": 4,
   "metadata": {},
   "outputs": [
    {
     "data": {
      "text/html": "<div>\n<style scoped>\n    .dataframe tbody tr th:only-of-type {\n        vertical-align: middle;\n    }\n\n    .dataframe tbody tr th {\n        vertical-align: top;\n    }\n\n    .dataframe thead th {\n        text-align: right;\n    }\n</style>\n<table border=\"1\" class=\"dataframe\">\n  <thead>\n    <tr style=\"text-align: right;\">\n      <th></th>\n      <th>vm_pu</th>\n      <th>va_degree</th>\n      <th>p_mw</th>\n      <th>q_mvar</th>\n    </tr>\n  </thead>\n  <tbody>\n    <tr>\n      <th>0</th>\n      <td>1.020000</td>\n      <td>0.000000</td>\n      <td>4.685473</td>\n      <td>6.871526</td>\n    </tr>\n    <tr>\n      <th>1</th>\n      <td>1.020697</td>\n      <td>0.019706</td>\n      <td>0.000000</td>\n      <td>0.000000</td>\n    </tr>\n    <tr>\n      <th>2</th>\n      <td>1.020697</td>\n      <td>0.019706</td>\n      <td>0.000000</td>\n      <td>-1.000150</td>\n    </tr>\n    <tr>\n      <th>3</th>\n      <td>1.022545</td>\n      <td>1.254489</td>\n      <td>0.000000</td>\n      <td>0.000000</td>\n    </tr>\n    <tr>\n      <th>4</th>\n      <td>1.022545</td>\n      <td>1.254489</td>\n      <td>0.000000</td>\n      <td>0.000000</td>\n    </tr>\n    <tr>\n      <th>5</th>\n      <td>1.030000</td>\n      <td>1.199131</td>\n      <td>-6.000000</td>\n      <td>-7.131442</td>\n    </tr>\n    <tr>\n      <th>6</th>\n      <td>1.016882</td>\n      <td>1.497692</td>\n      <td>1.227182</td>\n      <td>6.954365</td>\n    </tr>\n  </tbody>\n</table>\n</div>",
      "text/plain": "      vm_pu  va_degree      p_mw    q_mvar\n0  1.020000   0.000000  4.685473  6.871526\n1  1.020697   0.019706  0.000000  0.000000\n2  1.020697   0.019706  0.000000 -1.000150\n3  1.022545   1.254489  0.000000  0.000000\n4  1.022545   1.254489  0.000000  0.000000\n5  1.030000   1.199131 -6.000000 -7.131442\n6  1.016882   1.497692  1.227182  6.954365"
     },
     "execution_count": 4,
     "metadata": {},
     "output_type": "execute_result"
    }
   ],
   "source": [
    "\n",
    "net6.res_bus"
   ]
  },
  {
   "cell_type": "code",
   "execution_count": 5,
   "metadata": {},
   "outputs": [],
   "source": [
    "import matplotlib.pyplot as plt\n",
    "import numpy as np"
   ]
  },
  {
   "cell_type": "code",
   "execution_count": 6,
   "metadata": {},
   "outputs": [
    {
     "data": {
      "image/png": "[encoded data removed]",
      "text/plain": "<Figure size 432x288 with 1 Axes>"
     },
     "metadata": {
      "needs_background": "light",
      "transient": {}
     },
     "output_type": "display_data"
    }
   ],
   "source": [
    "caso1 = net6.res_bus.vm_pu\n",
    "plt.scatter(range(0,7),caso1)\n",
    "plt.xlabel(\"Barrajes Sistema\")\n",
    "plt.ylabel(\"Volt pu\")\n",
    "plt.title(\"Voltaje en barrajes del sistema\", fontsize=\"18\")\n",
    "plt.show()"
   ]
  },
  {
   "cell_type": "code",
   "execution_count": 7,
   "metadata": {},
   "outputs": [
    {
     "name": "stdout",
     "output_type": "stream",
     "text": [
      "0    True\n",
      "1    True\n",
      "2    True\n",
      "3    True\n",
      "4    True\n",
      "5    True\n",
      "6    True\n",
      "7    True\n",
      "Name: closed, dtype: bool\n"
     ]
    }
   ],
   "source": [
    "net6.switch.closed.iloc[5] = True\n",
    "net6.switch.closed.iloc[6] = True\n",
    "print(net6.switch.closed) \n",
    "pp.runpp(net6)\n",
    "caso2 = net6.res_bus.vm_pu"
   ]
  },
  {
   "cell_type": "code",
   "execution_count": 8,
   "metadata": {},
   "outputs": [
    {
     "name": "stdout",
     "output_type": "stream",
     "text": [
      "0     True\n",
      "1     True\n",
      "2     True\n",
      "3     True\n",
      "4     True\n",
      "5     True\n",
      "6    False\n",
      "7     True\n",
      "Name: closed, dtype: bool\n"
     ]
    }
   ],
   "source": [
    "net6.switch.closed.iloc[6] = False\n",
    "print(net6.switch.closed) \n",
    "pp.runpp(net6)\n",
    "caso3 = net6.res_bus.vm_pu"
   ]
  },
  {
   "cell_type": "code",
   "execution_count": 9,
   "metadata": {},
   "outputs": [
    {
     "name": "stdout",
     "output_type": "stream",
     "text": [
      "0     True\n",
      "1     True\n",
      "2     True\n",
      "3    False\n",
      "4     True\n",
      "5     True\n",
      "6     True\n",
      "7     True\n",
      "Name: closed, dtype: bool\n"
     ]
    }
   ],
   "source": [
    "net6.switch.closed.iloc[6] = True\n",
    "net6.switch.closed.iloc[3] = False\n",
    "print(net6.switch.closed) \n",
    "pp.runpp(net6)\n",
    "caso4 = net6.res_bus.vm_pu"
   ]
  },
  {
   "cell_type": "code",
   "execution_count": 10,
   "metadata": {},
   "outputs": [
    {
     "data": {
      "text/plain": "<matplotlib.legend.Legend at 0x7f3b0d9d3f28>"
     },
     "execution_count": 10,
     "metadata": {},
     "output_type": "execute_result"
    },
    {
     "data": {
      "image/png": "[encoded data removed]",
      "text/plain": "<Figure size 720x360 with 1 Axes>"
     },
     "metadata": {
      "needs_background": "light",
      "transient": {}
     },
     "output_type": "display_data"
    }
   ],
   "source": [
    "plt.figure(figsize=(10,5))\n",
    "plt.scatter(range(0,7),caso1)\n",
    "plt.scatter(range(0,7),caso2)\n",
    "plt.scatter(range(0,7),caso3)\n",
    "plt.scatter(range(0,7),caso4)\n",
    "plt.xlabel(\"Barrajes Sistema\")\n",
    "plt.ylabel(\"Volt pu\")\n",
    "plt.title(\"Voltaje en barrajes del sistema\", fontsize=\"18\")\n",
    "plt.legend(['Caso 1', 'Caso 2', 'Caso 3', 'Caso 4'], fontsize=10, frameon=True)"
   ]
  },
  {
   "cell_type": "markdown",
   "metadata": {},
   "source": [
    "**Caso 1** : linea 3 abierta\n",
    "**Caso 2** : Anillo\n",
    "**Caso 3** : linea 4 abierta\n",
    "**Caso 4** : linea 2 abierta\n",
    "\n",
    "![Unifilar](https://github.com/e2nIEE/pandapower/raw/052b07c6e9c3099c03e40c694d598b05ffeb8b78/tutorials/pics/example_network_simple.png)  "
   ]
  },
  {
   "cell_type": "code",
   "execution_count": null,
   "metadata": {},
   "outputs": [],
   "source": []
  }
 ],
 "metadata": {
  "kernelspec": {
   "display_name": "Python 3.7.3 64-bit ('base': conda)",
   "metadata": {
    "interpreter": {
     "hash": "063b336a909d1e022659ed9d1e027670738b9a1201b9f68d9a9846ad855537fb"
    }
   },
   "name": "python3"
  },
  "language_info": {
   "codemirror_mode": {
    "name": "ipython",
    "version": 3
   },
   "file_extension": ".py",
   "mimetype": "text/x-python",
   "name": "python",
   "nbconvert_exporter": "python",
   "pygments_lexer": "ipython3",
   "version": "3.7.3"
  },
  "orig_nbformat": 2
 },
 "nbformat": 4,
 "nbformat_minor": 2
}