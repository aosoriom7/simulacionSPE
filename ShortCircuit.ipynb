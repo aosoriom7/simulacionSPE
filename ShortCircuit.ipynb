{
 "cells": [
  {
   "cell_type": "markdown",
   "metadata": {},
   "source": [
    "## Simulacion de Corto Circuito\n",
    "![unifiliar](https://github.com/e2nIEE/pandapower/raw/ab0a5137912d7736e5491cd55f2e49e12d5202d0/tutorials/shortcircuit/example_network_sc.png)"
   ]
  },
  {
   "cell_type": "code",
   "execution_count": 1,
   "metadata": {},
   "outputs": [],
   "source": [
    "\n",
    "import pandapower as pp\n",
    "import pandapower.shortcircuit as sc\n",
    "\n",
    "def ring_network():\n",
    "    net = pp.create_empty_network()\n",
    "    b1 = pp.create_bus(net, 220)\n",
    "    b2 = pp.create_bus(net, 110)\n",
    "    b3 = pp.create_bus(net, 110)\n",
    "    b4 = pp.create_bus(net, 110)\n",
    "    pp.create_ext_grid(net, b1, s_sc_max_mva=100., s_sc_min_mva=80., rx_min=0.20, rx_max=0.35)\n",
    "    pp.create_transformer(net, b1, b2, \"100 MVA 220/110 kV\")\n",
    "    pp.create_line(net, b2, b3, std_type=\"N2XS(FL)2Y 1x120 RM/35 64/110 kV\" , length_km=15.)\n",
    "    l2 = pp.create_line(net, b3, b4, std_type=\"N2XS(FL)2Y 1x120 RM/35 64/110 kV\" , length_km=12.)\n",
    "    pp.create_line(net, b4, b2, std_type=\"N2XS(FL)2Y 1x120 RM/35 64/110 kV\" , length_km=10.)\n",
    "    pp.create_switch(net, b4, l2, closed=False, et=\"l\")\n",
    "    return net"
   ]
  }
 ],
 "metadata": {
  "kernelspec": {
   "display_name": "Python 3.7.3 64-bit ('base': conda)",
   "metadata": {
    "interpreter": {
     "hash": "063b336a909d1e022659ed9d1e027670738b9a1201b9f68d9a9846ad855537fb"
    }
   },
   "name": "python3"
  },
  "language_info": {
   "codemirror_mode": {
    "name": "ipython",
    "version": 3
   },
   "file_extension": ".py",
   "mimetype": "text/x-python",
   "name": "python",
   "nbconvert_exporter": "python",
   "pygments_lexer": "ipython3",
   "version": "3.7.3"
  },
  "orig_nbformat": 2
 },
 "nbformat": 4,
 "nbformat_minor": 2
}